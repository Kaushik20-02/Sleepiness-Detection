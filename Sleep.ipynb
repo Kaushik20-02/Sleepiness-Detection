{
 "cells": [
  {
   "cell_type": "code",
   "execution_count": 1,
   "id": "37cd6fd5",
   "metadata": {},
   "outputs": [
    {
     "name": "stdout",
     "output_type": "stream",
     "text": [
      "Defaulting to user installation because normal site-packages is not writeable\n",
      "Looking in indexes: https://download.pytorch.org/whl/cu117\n",
      "Requirement already satisfied: torch in c:\\users\\kaushik\\appdata\\roaming\\python\\python39\\site-packages (2.0.1)\n",
      "Requirement already satisfied: torchvision in c:\\users\\kaushik\\appdata\\roaming\\python\\python39\\site-packages (0.15.2)\n",
      "Requirement already satisfied: torchaudio in c:\\users\\kaushik\\appdata\\roaming\\python\\python39\\site-packages (2.0.2+cu117)\n",
      "Requirement already satisfied: typing-extensions in c:\\programdata\\anaconda3\\lib\\site-packages (from torch) (4.3.0)\n",
      "Requirement already satisfied: networkx in c:\\programdata\\anaconda3\\lib\\site-packages (from torch) (2.8.4)\n",
      "Requirement already satisfied: sympy in c:\\programdata\\anaconda3\\lib\\site-packages (from torch) (1.10.1)\n",
      "Requirement already satisfied: jinja2 in c:\\programdata\\anaconda3\\lib\\site-packages (from torch) (2.11.3)\n",
      "Requirement already satisfied: filelock in c:\\programdata\\anaconda3\\lib\\site-packages (from torch) (3.6.0)\n",
      "Requirement already satisfied: pillow!=8.3.*,>=5.3.0 in c:\\programdata\\anaconda3\\lib\\site-packages (from torchvision) (9.2.0)\n",
      "Requirement already satisfied: requests in c:\\programdata\\anaconda3\\lib\\site-packages (from torchvision) (2.28.1)\n",
      "Requirement already satisfied: numpy in c:\\programdata\\anaconda3\\lib\\site-packages (from torchvision) (1.21.5)\n",
      "Requirement already satisfied: MarkupSafe>=0.23 in c:\\programdata\\anaconda3\\lib\\site-packages (from jinja2->torch) (2.0.1)\n",
      "Requirement already satisfied: certifi>=2017.4.17 in c:\\programdata\\anaconda3\\lib\\site-packages (from requests->torchvision) (2022.9.14)\n",
      "Requirement already satisfied: idna<4,>=2.5 in c:\\programdata\\anaconda3\\lib\\site-packages (from requests->torchvision) (3.3)\n",
      "Requirement already satisfied: charset-normalizer<3,>=2 in c:\\programdata\\anaconda3\\lib\\site-packages (from requests->torchvision) (2.0.4)\n",
      "Requirement already satisfied: urllib3<1.27,>=1.21.1 in c:\\programdata\\anaconda3\\lib\\site-packages (from requests->torchvision) (1.26.11)\n",
      "Requirement already satisfied: mpmath>=0.19 in c:\\programdata\\anaconda3\\lib\\site-packages (from sympy->torch) (1.2.1)\n",
      "Note: you may need to restart the kernel to use updated packages.\n"
     ]
    },
    {
     "name": "stderr",
     "output_type": "stream",
     "text": [
      "WARNING: There was an error checking the latest version of pip.\n"
     ]
    }
   ],
   "source": [
    "pip install torch torchvision torchaudio --index-url https://download.pytorch.org/whl/cu117"
   ]
  },
  {
   "cell_type": "code",
   "execution_count": null,
   "id": "7376f66e",
   "metadata": {},
   "outputs": [],
   "source": [
    "!git clone https://github.com/ultralytics/yolov5"
   ]
  },
  {
   "cell_type": "code",
   "execution_count": null,
   "id": "33bec2ec",
   "metadata": {},
   "outputs": [],
   "source": [
    "!cd yolov5 & pip install -r requirements.txt"
   ]
  },
  {
   "cell_type": "code",
   "execution_count": null,
   "id": "d05a0933",
   "metadata": {},
   "outputs": [],
   "source": [
    "import torch #to load yolo model\n",
    "from matplotlib import pyplot as plt #used to visualize img\n",
    "import numpy as np #array\n",
    "import cv2"
   ]
  },
  {
   "cell_type": "markdown",
   "id": "258579d4",
   "metadata": {},
   "source": [
    "# load model directory, type (small)"
   ]
  },
  {
   "cell_type": "code",
   "execution_count": null,
   "id": "e04e408f",
   "metadata": {},
   "outputs": [],
   "source": [
    "model = torch.hub.load('ultralytics/yolov5', 'yolov5s')"
   ]
  },
  {
   "cell_type": "markdown",
   "id": "a0b9186d",
   "metadata": {},
   "source": [
    "# to see inside=== model"
   ]
  },
  {
   "cell_type": "code",
   "execution_count": null,
   "id": "457fb196",
   "metadata": {},
   "outputs": [],
   "source": [
    "model"
   ]
  },
  {
   "cell_type": "markdown",
   "id": "182e1f41",
   "metadata": {},
   "source": [
    "# Make Detections with Images"
   ]
  },
  {
   "cell_type": "code",
   "execution_count": null,
   "id": "bba28ee6",
   "metadata": {},
   "outputs": [],
   "source": [
    "img = 'https://ultralytics.com/images/zidane.jpg'"
   ]
  },
  {
   "cell_type": "code",
   "execution_count": null,
   "id": "197765b4",
   "metadata": {},
   "outputs": [],
   "source": [
    "results = model(img)\n",
    "results.pandas().xyxy[0]"
   ]
  },
  {
   "cell_type": "code",
   "execution_count": null,
   "id": "8facb7b1",
   "metadata": {},
   "outputs": [],
   "source": [
    "%matplotlib inline \n",
    "plt.imshow(np.squeeze(results.render()))\n",
    "plt.show()"
   ]
  },
  {
   "cell_type": "code",
   "execution_count": null,
   "id": "5eb8bbbd",
   "metadata": {},
   "outputs": [],
   "source": [
    "img = 'https://upload.wikimedia.org/wikipedia/commons/thumb/e/e4/Cars_in_traffic_in_Auckland%2C_New_Zealand_-_copyright-free_photo_released_to_public_domain.jpg/800px-Cars_in_traffic_in_Auckland%2C_New_Zealand_-_copyright-free_photo_released_to_public_domain.jpg'"
   ]
  },
  {
   "cell_type": "code",
   "execution_count": null,
   "id": "b76c21d8",
   "metadata": {},
   "outputs": [],
   "source": [
    "results = model(img)\n",
    "results.pandas().xyxy[0]"
   ]
  },
  {
   "cell_type": "code",
   "execution_count": null,
   "id": "f14b9a09",
   "metadata": {},
   "outputs": [],
   "source": [
    "%matplotlib inline \n",
    "plt.imshow(np.squeeze(results.render()))\n",
    "plt.show()"
   ]
  },
  {
   "cell_type": "markdown",
   "id": "aa6b677d",
   "metadata": {},
   "source": [
    "# Real Time Detections"
   ]
  },
  {
   "cell_type": "code",
   "execution_count": null,
   "id": "c3dd63b4",
   "metadata": {},
   "outputs": [],
   "source": [
    "cap= cv2.VideoCapture(0) #jst to open the camera #'street.mp4'\n",
    "while cap.isOpened():\n",
    "    ret, frame= cap.read()  #return value and the frame image\n",
    "    results= model(frame)  #yolo model, pass through the frame(webcam)\n",
    "    \n",
    "    #jst show name YOLO/top anything #results.render() jst return np array(img)\n",
    "    cv2.imshow('YOLO', np.squeeze(results.render()))\n",
    "    \n",
    "    if cv2.waitKey(10) & 0xFF== ord('q'):    #exit\n",
    "        break\n",
    "cap.release()              #close camera\n",
    "cv2.destroyAllWindows()    #close the popup"
   ]
  },
  {
   "cell_type": "markdown",
   "id": "9c115cf5",
   "metadata": {},
   "source": [
    "#  Sleep detect Trainning from scratch"
   ]
  },
  {
   "cell_type": "code",
   "execution_count": null,
   "id": "e397cb5f",
   "metadata": {},
   "outputs": [],
   "source": [
    "import uuid #unique identifier\n",
    "import os   #to work with file path\n",
    "import time #for a break btwn img capture"
   ]
  },
  {
   "cell_type": "code",
   "execution_count": null,
   "id": "d9b823eb",
   "metadata": {},
   "outputs": [],
   "source": [
    "IMAGES_PATH= os.path.join('data', 'images') #folder data->img\n",
    "labels= ['awake', 'sleep']\n",
    "number_img = 20" #jst to check if the camera is working or not
   ]
  },
  {
   "cell_type": "code",
   "execution_count": null,
   "id": "3efce70c",
   "metadata": {},
   "outputs": [],
   "source": [
    "cap= cv2.VideoCapture(0)\n",
    "#loop for labels\n",
    "for label in labels:\n",
    "    #collecting img for awake // sleep\n",
    "    print('Collecting images for {}'.format(label))\n",
    "    time.sleep(5)\n",
    "    \n",
    "    #loop for imgs\n",
    "    for img_num in range(number_img):\n",
    "        print('collecting imgs for {}, img no. {}'.format(label, img_num))\n",
    "        \n",
    "        ret, frame= cap.read()  #webcam feed(frame)\n",
    "        \n",
    "        #data\\images\\awake.2342342fdfwsdadweer32q.jpg #maming of imgs(Kaushik)\n",
    "        imgname = os.path.join(IMAGES_PATH, label+'.'+str(uuid.uuid1())+'.jpg')\n",
    "        \n",
    "        cv2.imwrite(imgname,frame) #write img to file\n",
    "        \n",
    "        cv2.imshow('Image collec', frame) #show the img\n",
    "        time.sleep(2)\n",
    "        \n",
    "        if cv2.waitKey(10) & 0xFF == ord('q'):\n",
    "            break\n",
    "cap.release()\n",
    "cv2.destroyAllWindows()"
   ]
  },
  {
   "cell_type": "code",
   "execution_count": null,
   "id": "bd50d14d",
   "metadata": {},
   "outputs": [],
   "source": [
    "!git clone https://github.com/tzutalin/labelImg"
   ]
  },
  {
   "cell_type": "code",
   "execution_count": null,
   "id": "0686b798",
   "metadata": {
    "scrolled": false
   },
   "outputs": [],
   "source": [
    "# in the website only\n",
    "!pip install pyqt5 lxml --upgrade\n",
    "!cd labelImg && pyrcc5 -o libs/resources.py resources.qrc"
   ]
  },
  {
   "cell_type": "code",
   "execution_count": null,
   "id": "9d2e5820",
   "metadata": {},
   "outputs": [],
   "source": [
    "!cd yolov5 && python train.py --img 640 --batch 16 --epochs 50 --data dataset.yml --weights yolov5s.pt"
   ]
  },
  {
   "cell_type": "code",
   "execution_count": null,
   "id": "7e4fa2ff",
   "metadata": {},
   "outputs": [],
   "source": [
    "#forcereload if we can't find last file #custom coz this type full dataset nt only yolov5\n",
    "model= torch.hub.load('ultralytics/yolov5', 'custom', path='yolov5/runs/train/exp5/weights/last.pt', force_reload= True)"
   ]
  },
  {
   "cell_type": "code",
   "execution_count": null,
   "id": "1ada4128",
   "metadata": {},
   "outputs": [],
   "source": [
    "#checking the img\n",
    "img= os.path.join('data', 'images', 'awake.6c832256-195f-11ee-b15c-38f3ab758a4b.jpg')"
   ]
  },
  {
   "cell_type": "code",
   "execution_count": null,
   "id": "0b7c8a90",
   "metadata": {},
   "outputs": [],
   "source": [
    "results= model(img)\n",
    "results.print()"
   ]
  },
  {
   "cell_type": "code",
   "execution_count": null,
   "id": "0f89d7da",
   "metadata": {},
   "outputs": [],
   "source": [
    "%matplotlib inline \n",
    "plt.imshow(np.squeeze(results.render()))\n",
    "plt.show()"
   ]
  },
  {
   "cell_type": "code",
   "execution_count": null,
   "id": "56342596",
   "metadata": {},
   "outputs": [],
   "source": [
    "cap= cv2.VideoCapture(0) #jst to open the camera #'street.mp4'\n",
    "while cap.isOpened():\n",
    "    ret, frame= cap.read()  #return value and the frame image\n",
    "    results= model(frame)  #yolo model, pass through the frame(webcam)\n",
    "    \n",
    "    #jst show name YOLO/top anything #results.render() jst return np array(img)\n",
    "    cv2.imshow('YOLO', np.squeeze(results.render()))\n",
    "    \n",
    "    if cv2.waitKey(10) & 0xFF== ord('q'):    #exit\n",
    "        break\n",
    "cap.release()              #close camera\n",
    "cv2.destroyAllWindows()    #close the popup"
   ]
  },
  {
   "cell_type": "code",
   "execution_count": null,
   "id": "374fc28a",
   "metadata": {},
   "outputs": [],
   "source": []
  }
 ],
 "metadata": {
  "kernelspec": {
   "display_name": "Python 3 (ipykernel)",
   "language": "python",
   "name": "python3"
  },
  "language_info": {
   "codemirror_mode": {
    "name": "ipython",
    "version": 3
   },
   "file_extension": ".py",
   "mimetype": "text/x-python",
   "name": "python",
   "nbconvert_exporter": "python",
   "pygments_lexer": "ipython3",
   "version": "3.9.13"
  }
 },
 "nbformat": 4,
 "nbformat_minor": 5
}
